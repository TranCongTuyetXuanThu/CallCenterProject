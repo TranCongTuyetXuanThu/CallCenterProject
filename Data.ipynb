{
 "cells": [
  {
   "cell_type": "code",
   "execution_count": 1,
   "metadata": {},
   "outputs": [],
   "source": [
    "import matplotlib.pyplot as plt\n",
    "import os\n",
    "import torch\n",
    "import torchaudio\n",
    "from tqdm import tqdm\n",
    "import csv\n",
    "import pandas as pd\n",
    "import sys\n",
    "import re\n",
    "import matplotlib.pyplot as plt\n",
    "device = torch.device('cuda' if torch.cuda.is_available() else 'cpu')"
   ]
  },
  {
   "cell_type": "markdown",
   "metadata": {},
   "source": [
    "\n",
    "\n",
    "1. Prepare X(Filename) and Y(Label)\n",
    "\n",
    "2. EDA\n",
    "\n",
    "3. Preprocesing data\n",
    "\n",
    " 3.1 Resize to fixed length\n",
    "\n",
    " 3.2 Audio Augmentation Time shift\n",
    "\n",
    " 3.3 Comvert to MFCC"
   ]
  },
  {
   "cell_type": "markdown",
   "metadata": {},
   "source": [
    "## 1. Prepare label"
   ]
  },
  {
   "cell_type": "code",
   "execution_count": 2,
   "metadata": {},
   "outputs": [],
   "source": [
    "'''\n",
    "dirname        : path that need to be searched\n",
    "ret                : files in the dirname (recursive)\n",
    "list_avoid_dir : dirname need to be skipped\n",
    "usage           : \n",
    "    list_files = []\n",
    "    file_search(dirname, list_files):   \n",
    "'''\n",
    "def file_search(dirname, ret, list_avoid_dir=[]):\n",
    "    \n",
    "    filenames = os.listdir(dirname)\n",
    "    \n",
    "    for filename in filenames:\n",
    "        full_filename = os.path.join(dirname, filename)\n",
    "\n",
    "        if os.path.isdir(full_filename) :\n",
    "            if full_filename.split('/')[-1] in list_avoid_dir:\n",
    "                continue\n",
    "            else:\n",
    "                file_search(full_filename, ret, list_avoid_dir)\n",
    "            \n",
    "        else:\n",
    "            ret.append(full_filename)          \n",
    "\n",
    "            \n",
    "\n",
    "'''\n",
    "dir_name : dir_name (inc. path) that will be created ( full-path name )\n",
    "'''\n",
    "def create_folder(dir_name):\n",
    "    if not os.path.exists(dir_name):\n",
    "        os.makedirs(dir_name)"
   ]
  },
  {
   "cell_type": "code",
   "execution_count": 3,
   "metadata": {},
   "outputs": [],
   "source": [
    "def extract_trans(list_in_file, out_file):\n",
    "    \n",
    "    lines = []\n",
    "    \n",
    "    for in_file in list_in_file:\n",
    "        cnt = 0\n",
    "        \n",
    "        with open(in_file, 'r') as f1:\n",
    "            lines = f1.readlines()\n",
    "\n",
    "        with open(out_file, 'a') as f2:\n",
    "\n",
    "            csv_writer = csv.writer(f2)\n",
    "            lines = sorted(lines)                  # sort based on first element\n",
    "            \n",
    "            for line in lines:\n",
    "\n",
    "                name = line.split(':')[0].split(' ')[0].strip()\n",
    "                \n",
    "                # unwanted case \n",
    "                if name[:3] != 'Ses':             # noise transcription such as reply  M: sorry\n",
    "                    continue\n",
    "                elif name[-3:-1] == 'XX':        # we don't have matching pair in label\n",
    "                    continue\n",
    "                trans = line.split(':')[1].strip()\n",
    "                \n",
    "                cnt += 1\n",
    "                csv_writer.writerow([name, trans])"
   ]
  },
  {
   "cell_type": "code",
   "execution_count": 9,
   "metadata": {},
   "outputs": [
    {
     "name": "stdout",
     "output_type": "stream",
     "text": [
      "Session1, #sum files: 28\n",
      "Session2, #sum files: 58\n",
      "Session3, #sum files: 90\n",
      "Session4, #sum files: 120\n",
      "Session5, #sum files: 151\n"
     ]
    }
   ],
   "source": [
    "# [schema] ID, transcriptions [csv]\n",
    "\n",
    "list_files = []\n",
    "\n",
    "for x in range(5):\n",
    "    sess_name = 'Session' + str(x+1)\n",
    "\n",
    "    path = './IEMOCAP_full_release/' + sess_name + '/dialog/transcriptions/'\n",
    "    file_search(path, list_files)\n",
    "    list_files = sorted(list_files)\n",
    "\n",
    "    print (sess_name + \", #sum files: \" + str(len(list_files)))\n",
    "\n",
    "extract_trans(list_files, 'processed_trans.csv')"
   ]
  },
  {
   "cell_type": "code",
   "execution_count": 10,
   "metadata": {},
   "outputs": [],
   "source": [
    "# read contents of csv file\n",
    "file = pd.read_csv(\"processed_trans.csv\")\n",
    "  \n",
    "# adding header\n",
    "headerList = ['sessionID', 'text']\n",
    "  \n",
    "# converting data frame to csv\n",
    "file.to_csv(\"processed_trans_head.csv\", header=headerList, index=False)"
   ]
  },
  {
   "cell_type": "code",
   "execution_count": 11,
   "metadata": {},
   "outputs": [],
   "source": [
    "list_category = [\n",
    "                'ang',\n",
    "                'hap',\n",
    "                'sad',\n",
    "                'neu',\n",
    "                'fru',\n",
    "                'exc',\n",
    "                'fea',\n",
    "                'sur',\n",
    "                'dis',\n",
    "                'oth',\n",
    "                'xxx'\n",
    "                ]\n",
    "\n",
    "category = {}\n",
    "for c_type in list_category:\n",
    "    if category.__contains__(c_type):\n",
    "        pass\n",
    "    else:\n",
    "        category[c_type] = len(category)"
   ]
  },
  {
   "cell_type": "code",
   "execution_count": 12,
   "metadata": {},
   "outputs": [],
   "source": [
    "def find_category(lines):\n",
    "    is_target = True\n",
    "    \n",
    "    id = ''\n",
    "    c_label = ''\n",
    "    list_ret = []\n",
    "    \n",
    "    for line in lines:\n",
    "        \n",
    "        if is_target == True:\n",
    "            \n",
    "            try:\n",
    "                id = line.split('\\t')[1].strip()  #  extract ID\n",
    "                c_label = line.split('\\t')[2].strip()  #  extract category\n",
    "                if not category.__contains__(c_label):\n",
    "                    c_label = re.sub(r'[^A-Za-z0-9]', '', c_label)\n",
    "                \n",
    "                list_ret.append( [id, c_label] )\n",
    "                is_target = False\n",
    "\n",
    "            except:\n",
    "                print(\"ERROR \", line)\n",
    "                sys.exit()\n",
    "        \n",
    "        else:\n",
    "            if line == '\\n':\n",
    "                is_target = True\n",
    "        \n",
    "    return list_ret"
   ]
  },
  {
   "cell_type": "code",
   "execution_count": 13,
   "metadata": {},
   "outputs": [],
   "source": [
    "def extract_labels(list_in_file, out_file) :\n",
    "    id = ''\n",
    "    lines = []\n",
    "    list_ret = []\n",
    "    \n",
    "    for in_file in list_in_file:\n",
    "        \n",
    "        with open(in_file, 'r') as f1:\n",
    "            lines = f1.readlines()\n",
    "            lines = lines[2:]                           # remove head\n",
    "            list_ret = find_category(lines)\n",
    "            \n",
    "        list_ret = sorted(list_ret)                   # sort based on first element\n",
    "    \n",
    "        with open(out_file, 'a') as f2:\n",
    "            csv_writer = csv.writer(f2)\n",
    "            csv_writer.writerows(list_ret)"
   ]
  },
  {
   "cell_type": "code",
   "execution_count": 14,
   "metadata": {},
   "outputs": [
    {
     "name": "stdout",
     "output_type": "stream",
     "text": [
      "Session1, #sum files: 28\n",
      "Session2, #sum files: 58\n",
      "Session3, #sum files: 90\n",
      "Session4, #sum files: 120\n",
      "Session5, #sum files: 151\n"
     ]
    }
   ],
   "source": [
    "# [schema] ID, label [csv]\n",
    "\n",
    "list_files = []\n",
    "list_avoid_dir = ['Attribute', 'Categorical', 'Self-evaluation']\n",
    "\n",
    "for x in range(5):\n",
    "    sess_name = 'Session' + str(x+1)\n",
    "\n",
    "    path = './IEMOCAP_full_release/' + sess_name + '/dialog/EmoEvaluation/'\n",
    "    file_search(path, list_files, list_avoid_dir)\n",
    "    list_files = sorted(list_files)\n",
    "\n",
    "    print(sess_name + \", #sum files: \" + str(len(list_files)))\n",
    "\n",
    "extract_labels(list_files, \"processed_labels.csv\")"
   ]
  },
  {
   "cell_type": "markdown",
   "metadata": {},
   "source": [
    "## 2. EDA"
   ]
  },
  {
   "cell_type": "code",
   "execution_count": 15,
   "metadata": {},
   "outputs": [],
   "source": [
    "# read contents of csv file\n",
    "file = pd.read_csv(\"processed_labels.csv\")\n",
    "  \n",
    "# adding header\n",
    "headerList = ['sessionID', 'label']\n",
    "  \n",
    "# converting data frame to csv\n",
    "file.to_csv(\"processed_labels_head.csv\", header=headerList, index=False)"
   ]
  },
  {
   "cell_type": "code",
   "execution_count": 19,
   "metadata": {},
   "outputs": [
    {
     "data": {
      "text/html": [
       "<div>\n",
       "<style scoped>\n",
       "    .dataframe tbody tr th:only-of-type {\n",
       "        vertical-align: middle;\n",
       "    }\n",
       "\n",
       "    .dataframe tbody tr th {\n",
       "        vertical-align: top;\n",
       "    }\n",
       "\n",
       "    .dataframe thead th {\n",
       "        text-align: right;\n",
       "    }\n",
       "</style>\n",
       "<table border=\"1\" class=\"dataframe\">\n",
       "  <thead>\n",
       "    <tr style=\"text-align: right;\">\n",
       "      <th></th>\n",
       "      <th>sessionID</th>\n",
       "      <th>label</th>\n",
       "    </tr>\n",
       "  </thead>\n",
       "  <tbody>\n",
       "    <tr>\n",
       "      <th>0</th>\n",
       "      <td>Ses01F_impro01_F001</td>\n",
       "      <td>neu</td>\n",
       "    </tr>\n",
       "    <tr>\n",
       "      <th>1</th>\n",
       "      <td>Ses01F_impro01_F002</td>\n",
       "      <td>neu</td>\n",
       "    </tr>\n",
       "    <tr>\n",
       "      <th>2</th>\n",
       "      <td>Ses01F_impro01_F003</td>\n",
       "      <td>xxx</td>\n",
       "    </tr>\n",
       "    <tr>\n",
       "      <th>3</th>\n",
       "      <td>Ses01F_impro01_F004</td>\n",
       "      <td>xxx</td>\n",
       "    </tr>\n",
       "    <tr>\n",
       "      <th>4</th>\n",
       "      <td>Ses01F_impro01_F005</td>\n",
       "      <td>neu</td>\n",
       "    </tr>\n",
       "    <tr>\n",
       "      <th>5</th>\n",
       "      <td>Ses01F_impro01_F006</td>\n",
       "      <td>fru</td>\n",
       "    </tr>\n",
       "    <tr>\n",
       "      <th>6</th>\n",
       "      <td>Ses01F_impro01_F007</td>\n",
       "      <td>fru</td>\n",
       "    </tr>\n",
       "    <tr>\n",
       "      <th>7</th>\n",
       "      <td>Ses01F_impro01_F008</td>\n",
       "      <td>fru</td>\n",
       "    </tr>\n",
       "    <tr>\n",
       "      <th>8</th>\n",
       "      <td>Ses01F_impro01_F009</td>\n",
       "      <td>fru</td>\n",
       "    </tr>\n",
       "    <tr>\n",
       "      <th>9</th>\n",
       "      <td>Ses01F_impro01_F010</td>\n",
       "      <td>xxx</td>\n",
       "    </tr>\n",
       "  </tbody>\n",
       "</table>\n",
       "</div>"
      ],
      "text/plain": [
       "             sessionID label\n",
       "0  Ses01F_impro01_F001   neu\n",
       "1  Ses01F_impro01_F002   neu\n",
       "2  Ses01F_impro01_F003   xxx\n",
       "3  Ses01F_impro01_F004   xxx\n",
       "4  Ses01F_impro01_F005   neu\n",
       "5  Ses01F_impro01_F006   fru\n",
       "6  Ses01F_impro01_F007   fru\n",
       "7  Ses01F_impro01_F008   fru\n",
       "8  Ses01F_impro01_F009   fru\n",
       "9  Ses01F_impro01_F010   xxx"
      ]
     },
     "execution_count": 19,
     "metadata": {},
     "output_type": "execute_result"
    }
   ],
   "source": [
    "df = pd.read_csv('processed_labels_head.csv')\n",
    "df.head(10)"
   ]
  },
  {
   "cell_type": "code",
   "execution_count": 34,
   "metadata": {},
   "outputs": [
    {
     "data": {
      "image/png": "[encoded data removed]",
      "text/plain": [
       "<Figure size 640x480 with 1 Axes>"
      ]
     },
     "metadata": {},
     "output_type": "display_data"
    }
   ],
   "source": [
    "import pandas as pd\n",
    "import matplotlib.pyplot as plt\n",
    "\n",
    "# Assuming you have already read the CSV file into a DataFrame named 'df'\n",
    "\n",
    "# Get unique labels\n",
    "labels = df['label'].unique()\n",
    "\n",
    "# Calculate percentage\n",
    "percentage = df['label'].value_counts(normalize=True) * 100\n",
    "\n",
    "# Convert percentage Series to list\n",
    "percentage_list = percentage.tolist()\n",
    "\n",
    "# Plotting the pie chart\n",
    "fig, ax = plt.subplots()\n",
    "ax.pie(percentage, labels=labels,autopct='%1.1f%%')\n",
    "ax.legend(title =\"Labels\",\n",
    "          loc =\"center left\",\n",
    "          bbox_to_anchor =(1, 0, 0.5, 1))\n",
    "plt.title('Pie Chart for Label Distribution')\n",
    "#plt.setp(autotexts, size = 8, weight =\"bold\")\n",
    "plt.show()\n"
   ]
  },
  {
   "cell_type": "code",
   "execution_count": 46,
   "metadata": {},
   "outputs": [],
   "source": [
    "dfl = pd.read_csv('processed_labels_head.csv')\n",
    "df_encode = pd.get_dummies(dfl,columns=['label'])\n",
    "df_encode.to_csv(\"processed_onehot_encoding.csv\", index = False)"
   ]
  },
  {
   "cell_type": "markdown",
   "metadata": {},
   "source": [
    "## 3. Preprocesing data"
   ]
  },
  {
   "cell_type": "markdown",
   "metadata": {},
   "source": [
    "### 3.1 Resize to fixed length"
   ]
  },
  {
   "cell_type": "code",
   "execution_count": null,
   "metadata": {},
   "outputs": [],
   "source": [
    "def sorf_max_length(wav_dir):\n",
    "    list_files = []\n",
    "    file_search(wav_dir, list_files)\n",
    "    list_files = [_ for _ in list_files if _.endswith('.wav')] # Just read file end with .wav\n",
    "    create_folder(mfcc_dir)\n",
    "\n",
    "\n",
    "    for wav_file in tqdm(list_files):\n",
    "\n",
    "        waveform, sample_rate = torchaudio.load(wav_file)\n",
    "\n",
    "        mfccs = torchaudio.transforms.MFCC(sample_rate=sample_rate)(waveform)\n",
    "    \n",
    "\n",
    "def resize_length():\n",
    "    \n",
    "    pass"
   ]
  },
  {
   "cell_type": "markdown",
   "metadata": {},
   "source": [
    "### 3.2 Audio Augmentation Time shift"
   ]
  },
  {
   "cell_type": "code",
   "execution_count": null,
   "metadata": {},
   "outputs": [],
   "source": []
  },
  {
   "cell_type": "markdown",
   "metadata": {},
   "source": [
    " ### 3.3 Comvert to MFCC"
   ]
  },
  {
   "cell_type": "code",
   "execution_count": 8,
   "metadata": {},
   "outputs": [],
   "source": [
    "def convert_wav_to_mfcc(sess_name, wav_dir, mfcc_dir):\n",
    "  \"\"\"\n",
    "  Convert wav files to mfcc and save to mfcc directory\n",
    "  \n",
    "  Args:\n",
    "    sess_name (str): Session name\n",
    "    wav_dir (str): Directory contains original .wav files  \n",
    "    mfcc_dir (str): Destination directory to save .pt files\n",
    "        \n",
    "  Returns:\n",
    "    None\n",
    "  \"\"\"\n",
    "\n",
    "  \n",
    "  list_files = []\n",
    "  file_search(wav_dir, list_files)\n",
    "  list_files = [_ for _ in list_files if _.endswith('.wav')] # Just read file end with .wav\n",
    "  create_folder(mfcc_dir)\n",
    "\n",
    "\n",
    "  for wav_file in tqdm(list_files):\n",
    "\n",
    "    waveform, sample_rate = torchaudio.load(wav_file)\n",
    "\n",
    "    mfccs = torchaudio.transforms.MFCC(sample_rate=sample_rate)(waveform)\n",
    "\n",
    "    file_name = os.path.basename(wav_file).rsplit('.', 1)[0] + '.pt'\n",
    "    torch.save(mfccs, os.path.join(mfcc_dir, file_name))\n",
    "\n",
    "  print(sess_name + \", Done!\")"
   ]
  },
  {
   "cell_type": "markdown",
   "metadata": {},
   "source": [
    "1. Still have some strange files (such as .pk, .DS_store,..) -> need to solve"
   ]
  },
  {
   "cell_type": "code",
   "execution_count": 9,
   "metadata": {},
   "outputs": [
    {
     "name": "stderr",
     "output_type": "stream",
     "text": [
      "  0%|          | 0/1819 [00:00<?, ?it/s]"
     ]
    },
    {
     "name": "stderr",
     "output_type": "stream",
     "text": [
      "/Library/Frameworks/Python.framework/Versions/3.11/lib/python3.11/site-packages/torchaudio/functional/functional.py:584: UserWarning: At least one mel filterbank has all zero values. The value for `n_mels` (128) may be set too high. Or, the value for `n_freqs` (201) may be set too low.\n",
      "  warnings.warn(\n",
      "100%|██████████| 1819/1819 [00:03<00:00, 473.02it/s]\n"
     ]
    },
    {
     "name": "stdout",
     "output_type": "stream",
     "text": [
      "Session1, Done!\n"
     ]
    },
    {
     "name": "stderr",
     "output_type": "stream",
     "text": [
      "100%|██████████| 1811/1811 [00:03<00:00, 491.32it/s]\n"
     ]
    },
    {
     "name": "stdout",
     "output_type": "stream",
     "text": [
      "Session2, Done!\n"
     ]
    },
    {
     "name": "stderr",
     "output_type": "stream",
     "text": [
      "100%|██████████| 2136/2136 [00:04<00:00, 499.22it/s]\n"
     ]
    },
    {
     "name": "stdout",
     "output_type": "stream",
     "text": [
      "Session3, Done!\n"
     ]
    },
    {
     "name": "stderr",
     "output_type": "stream",
     "text": [
      "100%|██████████| 2103/2103 [00:04<00:00, 490.64it/s]\n"
     ]
    },
    {
     "name": "stdout",
     "output_type": "stream",
     "text": [
      "Session4, Done!\n"
     ]
    },
    {
     "name": "stderr",
     "output_type": "stream",
     "text": [
      "100%|██████████| 2170/2170 [00:04<00:00, 477.22it/s]"
     ]
    },
    {
     "name": "stdout",
     "output_type": "stream",
     "text": [
      "Session5, Done!\n"
     ]
    },
    {
     "name": "stderr",
     "output_type": "stream",
     "text": [
      "\n"
     ]
    }
   ],
   "source": [
    "if __name__ == '__main__':\n",
    "  for x in range(5):\n",
    "    sess_name = 'Session' + str(x+1)\n",
    "    wav_dir = './IEMOCAP_full_release/'+ sess_name + '/sentences/wav/'\n",
    "    mfcc_dir = './IEMOCAP_full_release/'+ sess_name + '/sentences/wav_mfcc/'\n",
    "\n",
    "    convert_wav_to_mfcc(sess_name, wav_dir, mfcc_dir)"
   ]
  },
  {
   "cell_type": "code",
   "execution_count": 11,
   "metadata": {},
   "outputs": [
    {
     "data": {
      "image/png": "[encoded data removed]",
      "text/plain": [
       "<Figure size 400x1600 with 1 Axes>"
      ]
     },
     "metadata": {},
     "output_type": "display_data"
    }
   ],
   "source": [
    "mfccs = torch.load('./IEMOCAP_full_release/Session1/sentences/wav_mfcc/Ses01M_script03_2_M039.pt')\n",
    "mfccs = mfccs.numpy() \n",
    "\n",
    "plt.matshow(mfccs.T)\n",
    "plt.title('MFCC')\n",
    "plt.ylabel('Coefficients') \n",
    "plt.xlabel('Time')\n",
    "plt.show()"
   ]
  },
  {
   "cell_type": "code",
   "execution_count": 12,
   "metadata": {},
   "outputs": [
    {
     "data": {
      "text/plain": [
       "(1, 40, 173)"
      ]
     },
     "execution_count": 12,
     "metadata": {},
     "output_type": "execute_result"
    }
   ],
   "source": [
    "mfccs.shape"
   ]
  }
 ],
 "metadata": {
  "kernelspec": {
   "display_name": ".venv",
   "language": "python",
   "name": "python3"
  },
  "language_info": {
   "codemirror_mode": {
    "name": "ipython",
    "version": 3
   },
   "file_extension": ".py",
   "mimetype": "text/x-python",
   "name": "python",
   "nbconvert_exporter": "python",
   "pygments_lexer": "ipython3",
   "version": "3.11.6"
  }
 },
 "nbformat": 4,
 "nbformat_minor": 2
}
