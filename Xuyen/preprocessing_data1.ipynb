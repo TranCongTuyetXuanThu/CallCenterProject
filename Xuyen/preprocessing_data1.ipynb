{
 "cells": [
  {
   "cell_type": "code",
   "execution_count": 2,
   "metadata": {},
   "outputs": [],
   "source": [
    "import pandas as pd\n",
    "import os\n",
    "import shutil\n",
    "from tqdm import tqdm\n",
    "import torch\n",
    "import torchaudio\n",
    "import torchaudio.transforms as T"
   ]
  },
  {
   "cell_type": "code",
   "execution_count": 3,
   "metadata": {},
   "outputs": [],
   "source": [
    "def create_folder(dir_name):\n",
    "    if not os.path.exists(dir_name):\n",
    "        os.makedirs(dir_name)"
   ]
  },
  {
   "cell_type": "code",
   "execution_count": 4,
   "metadata": {},
   "outputs": [],
   "source": [
    "def get_all_data(path):\n",
    "\n",
    "    folder_dir = \"./IEMOCAP_full_release/wav\"\n",
    "    create_folder(folder_dir)\n",
    "\n",
    "    for x in range(5):\n",
    "        ses_name = \"Session\" + str(x+1)\n",
    "        path = \"./IEMOCAP_full_release/\" + ses_name + \"/sentences/wav\"\n",
    "        for root, _, files in os.walk(path):\n",
    "            for file_name in files:\n",
    "                if file_name.endswith(\".wav\"):\n",
    "                    file_wav = os.path.join(root,file_name)\n",
    "                    shutil.copy(file_wav,folder_dir)\n",
    "                \n",
    "get_all_data(\"./IEMOCAP_full_release/\")"
   ]
  },
  {
   "cell_type": "code",
   "execution_count": 5,
   "metadata": {},
   "outputs": [
    {
     "name": "stdout",
     "output_type": "stream",
     "text": [
      "Number of file sentences wav:  10039\n"
     ]
    }
   ],
   "source": [
    "path = \"./IEMOCAP_full_release/wav/\"\n",
    "files = os.listdir(path)\n",
    "num_files = len(files)\n",
    "print(\"Number of file sentences wav: \",num_files)"
   ]
  },
  {
   "cell_type": "code",
   "execution_count": 6,
   "metadata": {},
   "outputs": [
    {
     "name": "stderr",
     "output_type": "stream",
     "text": [
      "100%|██████████| 10039/10039 [00:20<00:00, 496.24it/s]\n"
     ]
    }
   ],
   "source": [
    "def extract_mfcc(path):\n",
    "    files = os.listdir(path)\n",
    "    folder_dir = \"./IEMOCAP_full_release/wav_mfcc\"\n",
    "    create_folder(folder_dir)\n",
    "    \n",
    "    for file in tqdm(files):\n",
    "        file_path = os.path.join(path,file)\n",
    "        waveform,sample_rate = torchaudio.load(file_path)\n",
    "        mfcc_transform = T.MFCC(\n",
    "            sample_rate=sample_rate,\n",
    "            n_mfcc=13,  # Number of coefficients to retain\n",
    "            melkwargs={'n_fft': 400, 'hop_length': 160, 'n_mels': 23}  # Parameters for the mel filterbank\n",
    "        )(waveform)\n",
    "        file_name = os.path.basename(file).rsplit('.', 1)[0] + '.pt'\n",
    "        torch.save(mfcc_transform, os.path.join(folder_dir, file_name))\n",
    "    \n",
    "extract_mfcc(\"./IEMOCAP_full_release/wav/\")  \n",
    "    "
   ]
  },
  {
   "cell_type": "code",
   "execution_count": null,
   "metadata": {},
   "outputs": [],
   "source": []
  }
 ],
 "metadata": {
  "kernelspec": {
   "display_name": "Python 3",
   "language": "python",
   "name": "python3"
  },
  "language_info": {
   "codemirror_mode": {
    "name": "ipython",
    "version": 3
   },
   "file_extension": ".py",
   "mimetype": "text/x-python",
   "name": "python",
   "nbconvert_exporter": "python",
   "pygments_lexer": "ipython3",
   "version": "3.11.6"
  }
 },
 "nbformat": 4,
 "nbformat_minor": 2
}
