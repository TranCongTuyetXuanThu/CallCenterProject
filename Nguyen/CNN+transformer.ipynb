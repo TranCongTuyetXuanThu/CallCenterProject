{
 "cells": [
  {
   "cell_type": "code",
   "execution_count": 50,
   "metadata": {},
   "outputs": [],
   "source": [
    "# !pip install torchsummary\n",
    "# !pip install torchvision"
   ]
  },
  {
   "cell_type": "code",
   "execution_count": 12,
   "metadata": {},
   "outputs": [],
   "source": [
    "from torch import nn\n",
    "import torchaudio, torchvision\n",
    "from torchsummary import summary\n",
    "import numpy as np\n",
    "from torch.utils.data import DataLoader \n",
    "from pydub import AudioSegment\n",
    "from pydub.silence import detect_nonsilent\n",
    "from moviepy.editor import *"
   ]
  },
  {
   "cell_type": "code",
   "execution_count": 52,
   "metadata": {},
   "outputs": [],
   "source": [
    "def tensor_to_numpy():    \n",
    "    list_ = ['data_test','data_train','label_test','label_train']\n",
    "    file_save = 'features_labels.npy'\n",
    "    with open(file_save, 'wb') as f:\n",
    "        for name in list_:\n",
    "            tensor = torch.load(name+'.pt')\n",
    "            if len(tensor.shape) == 3:\n",
    "                tensor = tensor.reshape((tensor.shape[0],1,40,tensor.shape[-1]))\n",
    "            array = tensor.numpy()\n",
    "            np.save(f, array)"
   ]
  },
  {
   "cell_type": "code",
   "execution_count": 53,
   "metadata": {},
   "outputs": [],
   "source": [
    "tensor_to_numpy()"
   ]
  },
  {
   "cell_type": "code",
   "execution_count": 54,
   "metadata": {},
   "outputs": [],
   "source": [
    "def load_data():\n",
    "    filenames = 'features_labels_500.npy'\n",
    "    with open(filenames, 'rb') as f:\n",
    "        X_test = np.load(f)\n",
    "        X_train = np.load(f)\n",
    "        Y_test = np.load(f)\n",
    "        Y_train = np.load(f)\n",
    "    return X_test, X_train, Y_test, Y_train"
   ]
  },
  {
   "cell_type": "code",
   "execution_count": 55,
   "metadata": {},
   "outputs": [
    {
     "name": "stdout",
     "output_type": "stream",
     "text": [
      "X_train:(6023, 1, 40, 500), y_train:(6023, 3)\n",
      "X_test:(1506, 1, 40, 500), y_test:(1506, 3)\n"
     ]
    }
   ],
   "source": [
    "X_test, X_train, Y_test, Y_train = load_data()\n",
    "\n",
    "print(f'X_train:{X_train.shape}, y_train:{Y_train.shape}')\n",
    "print(f'X_test:{X_test.shape}, y_test:{Y_test.shape}')"
   ]
  },
  {
   "cell_type": "markdown",
   "metadata": {},
   "source": [
    "## Definition"
   ]
  },
  {
   "cell_type": "code",
   "execution_count": 56,
   "metadata": {},
   "outputs": [],
   "source": [
    "# Model flow\n",
    "class define_model(nn.Module):\n",
    "\n",
    "    # Define layers\n",
    "    def __init__(self, num_emotions):\n",
    "        super().__init__()\n",
    "\n",
    "        transformer_layer = nn.TransformerEncoderLayer(\n",
    "            d_model=40, #####################\n",
    "            nhead=4,\n",
    "            dim_feedforward=512,\n",
    "            dropout=0.4,\n",
    "            activation='relu'\n",
    "        )\n",
    "        self.transformer_maxpool = nn.MaxPool2d(kernel_size=[1,4], stride=[1,4])\n",
    "        self.transformer_encoder = nn.TransformerEncoder(transformer_layer, num_layers=4)\n",
    "\n",
    "        #maxpool: reshape (width, height)\n",
    "        #conv: reshape (channel)\n",
    "        conv2d_layer = nn.Sequential(\n",
    "            nn.Conv2d(\n",
    "                in_channels=1,\n",
    "                out_channels=16,\n",
    "                kernel_size=3,\n",
    "                stride=1,\n",
    "                padding=1\n",
    "            ),\n",
    "            nn.BatchNorm2d(16),#######\n",
    "            nn.ReLU(),\n",
    "            nn.MaxPool2d(kernel_size=2, stride=2),\n",
    "            nn.Dropout(p=0.3),\n",
    "            nn.Conv2d(\n",
    "                in_channels=16,\n",
    "                out_channels=32,\n",
    "                kernel_size=3,\n",
    "                stride=1,\n",
    "                padding=1\n",
    "            ),\n",
    "            nn.BatchNorm2d(32),#######\n",
    "            nn.ReLU(),\n",
    "            nn.MaxPool2d(kernel_size=4, stride=4),\n",
    "            nn.Dropout(p=0.3),\n",
    "            nn.Conv2d(\n",
    "                in_channels=32,\n",
    "                out_channels=64,\n",
    "                kernel_size=3,\n",
    "                stride=1,\n",
    "                padding=1\n",
    "            ),\n",
    "            nn.BatchNorm2d(64),#######\n",
    "            nn.ReLU(),\n",
    "            nn.MaxPool2d(kernel_size=4, stride=4),\n",
    "            nn.Dropout(p=0.3),\n",
    "        )\n",
    "        self.conv2Dblock1 = nn.Sequential(\n",
    "            nn.Conv2d(\n",
    "                in_channels=1,\n",
    "                out_channels=16,\n",
    "                kernel_size=3,\n",
    "                stride=1,\n",
    "                padding=1\n",
    "            ),\n",
    "            nn.BatchNorm2d(16),#######\n",
    "            nn.ReLU(),\n",
    "            nn.MaxPool2d(kernel_size=2, stride=2),\n",
    "            nn.Dropout(p=0.3),\n",
    "            nn.Conv2d(\n",
    "                in_channels=16,\n",
    "                out_channels=32,\n",
    "                kernel_size=3,\n",
    "                stride=1,\n",
    "                padding=1\n",
    "            ),\n",
    "            nn.BatchNorm2d(32),#######\n",
    "            nn.ReLU(),\n",
    "            nn.MaxPool2d(kernel_size=4, stride=4),\n",
    "            nn.Dropout(p=0.3),\n",
    "            nn.Conv2d(\n",
    "                in_channels=32,\n",
    "                out_channels=64,\n",
    "                kernel_size=3,\n",
    "                stride=1,\n",
    "                padding=1\n",
    "            ),\n",
    "            nn.BatchNorm2d(64),#######\n",
    "            nn.ReLU(),\n",
    "            nn.MaxPool2d(kernel_size=4, stride=4),\n",
    "            nn.Dropout(p=0.3),\n",
    "        )\n",
    "        self.conv2Dblock2 = conv2d_layer\n",
    "\n",
    "        self.fc1_layer = nn.Linear(960*2+40, num_emotions) ########\n",
    "        self.softmax_out = nn.Softmax(dim=1)\n",
    "\n",
    "    def forward(self, x):\n",
    "        conv2d_embedding1 = self.conv2Dblock1(x)\n",
    "        conv2d_embedding1 = torch.flatten(conv2d_embedding1, start_dim = 1)\n",
    "\n",
    "        conv2d_embedding2 = self.conv2Dblock2(x)\n",
    "        conv2d_embedding2 = torch.flatten(conv2d_embedding2, start_dim = 1)\n",
    "\n",
    "        x_maxpool = self.transformer_maxpool(x)\n",
    "        x_maxpool_reduced = torch.squeeze(x_maxpool,1) ############\n",
    "        x = x_maxpool_reduced.permute(2,0,1) ###########\n",
    "        transformer_output = self.transformer_encoder(x)\n",
    "        transformer_embedding = torch.mean(transformer_output, dim = 0)\n",
    "\n",
    "        complete_embedding = torch.cat([conv2d_embedding1, conv2d_embedding2, transformer_embedding], dim = 1)\n",
    "        output_logits = self.fc1_layer(complete_embedding)\n",
    "        output_softmax = self.softmax_out(output_logits)\n",
    "        return output_logits, output_softmax"
   ]
  },
  {
   "cell_type": "code",
   "execution_count": 57,
   "metadata": {},
   "outputs": [],
   "source": [
    "# Training step\n",
    "def make_train_step(model, criterion, optimizer):\n",
    "\n",
    "    def train_step(X, Y):\n",
    "        output_logits, output_softmax = model(X)\n",
    "        predictions = torch.argmax(output_softmax, dim=1)\n",
    "        Y = torch.argmax(Y, dim=1)\n",
    "        accuracy = torch.sum(Y==predictions)/float(len(Y))\n",
    "        loss = criterion(output_logits, Y)\n",
    "        loss.backward()\n",
    "        optimizer.step()\n",
    "        optimizer.zero_grad()\n",
    "        return loss.item(), accuracy*100\n",
    "    return train_step\n",
    "\n",
    "#validation step\n",
    "def make_validate_fnc(model, criterion):\n",
    "    def validate(X,Y):\n",
    "        with torch.no_grad():\n",
    "            model.eval()\n",
    "            output_logits, output_softmax = model(X)\n",
    "            predictions = torch.argmax(output_softmax, dim=1)\n",
    "            Y = torch.argmax(Y, dim=1)\n",
    "            accuracy = torch.sum(Y==predictions)/float(len(Y))\n",
    "            loss = criterion(output_logits, Y)\n",
    "        return loss.item(), accuracy*100, predictions\n",
    "    return validate"
   ]
  },
  {
   "cell_type": "code",
   "execution_count": 58,
   "metadata": {},
   "outputs": [],
   "source": [
    "def make_save_checkpoint():\n",
    "    def save_checkpoint(optimizer, model, epoch, filename):\n",
    "        checkpoint_dict = {\n",
    "            'optimizer': optimizer.state_dict(),\n",
    "            'model': model.state_dict(),\n",
    "            'epoch': epoch\n",
    "        }\n",
    "        torch.save(checkpoint_dict, filename)\n",
    "    return save_checkpoint\n",
    "\n",
    "def load_checkpoint(optimizer, model, filename):\n",
    "    checkpoint_dict = torch.load(filename)\n",
    "    epoch = checkpoint_dict['epoch']\n",
    "    model.load_state_dict(checkpoint_dict['model'])\n",
    "    if optimizer is not None:\n",
    "        optimizer.load_state_dict(checkpoint_dict['optimizer'])\n",
    "    return epoch"
   ]
  },
  {
   "cell_type": "markdown",
   "metadata": {},
   "source": [
    "## Training loop"
   ]
  },
  {
   "cell_type": "code",
   "execution_count": 59,
   "metadata": {},
   "outputs": [
    {
     "name": "stdout",
     "output_type": "stream",
     "text": [
      "cpu selected\n"
     ]
    },
    {
     "name": "stdout",
     "output_type": "stream",
     "text": [
      "Number of trainable params:  245851\n"
     ]
    }
   ],
   "source": [
    "emotions_dict ={\n",
    "    '0':'positive',\n",
    "    '1':'neutral',\n",
    "    '2':'negative'}\n",
    "\n",
    "device = 'cuda' if torch.cuda.is_available() else 'cpu'\n",
    "print(f'{device} selected')\n",
    "\n",
    "model = define_model(len(emotions_dict)).to(device)\n",
    "print('Number of trainable params: ', sum(p.numel() for p in model.parameters()))\n",
    "# Define optimizer\n",
    "optimizer = torch.optim.SGD(model.parameters(), lr=0.01, weight_decay=1e-3, momentum=0.8)\n",
    "# Define loss/ criterion\n",
    "def criterion(predictions, targets):\n",
    "    return nn.CrossEntropyLoss()(input=predictions, target=targets)\n",
    "\n",
    "save_checkpoint = make_save_checkpoint()\n",
    "train_step = make_train_step(model, criterion, optimizer)\n",
    "validate = make_validate_fnc(model, criterion)\n",
    "\n",
    "train_losses = []\n",
    "valid_losses = []"
   ]
  },
  {
   "cell_type": "code",
   "execution_count": 60,
   "metadata": {},
   "outputs": [],
   "source": [
    "def train(optimizer, model, num_epochs, X_train, Y_train, X_valid, Y_valid, list_acc, list_loss):\n",
    "    train_size = X_train.shape[0]\n",
    "    minibatch = 128\n",
    "    for epoch in range(num_epochs):\n",
    "        #set to train phase\n",
    "        model.train()\n",
    "\n",
    "        train_indices = np.random.permutation(train_size)\n",
    "        X_train = X_train[train_indices,:,:,:]\n",
    "        Y_train = Y_train[train_indices,:]\n",
    "\n",
    "        epoch_acc = 0\n",
    "        epoch_loss = 0\n",
    "        num_iterations = int(train_size/minibatch)\n",
    "\n",
    "        for i in range(num_iterations):\n",
    "            batch_start = i*minibatch\n",
    "            batch_end = min(batch_start + minibatch, train_size)\n",
    "            actual_batch_size = batch_end - batch_start\n",
    "\n",
    "            X = X_train[batch_start:batch_end,:,:,:]\n",
    "            Y = Y_train[batch_start:batch_end,:]\n",
    "            \n",
    "            X_tensor = torch.tensor(X, device = device).float()\n",
    "            Y_tensor = torch.tensor(Y, dtype = torch.long, device = device)\n",
    "\n",
    "            loss, acc = train_step(X_tensor, Y_tensor)\n",
    "            \n",
    "            epoch_acc += acc * actual_batch_size / train_size\n",
    "            epoch_loss += loss * actual_batch_size / train_size\n",
    "\n",
    "        list_acc.append(epoch_acc.cpu().numpy())\n",
    "        list_loss.append(epoch_loss)\n",
    "        X_valid_tensor = torch.tensor(X_test, device = device).float()\n",
    "        Y_valid_tensor = torch.tensor(Y_test, dtype = torch.long, device = device)\n",
    "        valid_loss, valid_acc, _ = validate(X_valid_tensor,Y_valid_tensor)\n",
    "\n",
    "        checkpoint_filename = 'cnn_transformerFINAL-{:03d}.pkl'.format(epoch)\n",
    "        save_checkpoint(optimizer, model, epoch, checkpoint_filename)\n",
    "\n",
    "        print(f'\\nEpoch {epoch} --- loss:{epoch_loss:.3f}, Epoch accuracy:{epoch_acc:.2f}%, Validation loss:{valid_loss:.3f}, Validation accuracy:{valid_acc:.3f}')"
   ]
  },
  {
   "cell_type": "code",
   "execution_count": 1,
   "metadata": {},
   "outputs": [],
   "source": [
    "# num_epochs = 100\n",
    "# list_acc = []\n",
    "# list_loss = []\n",
    "# train(optimizer, model, num_epochs, X_train, Y_train, X_test, Y_test, list_acc, list_loss)"
   ]
  },
  {
   "cell_type": "markdown",
   "metadata": {},
   "source": [
    "### Why loss validate is nan?"
   ]
  },
  {
   "cell_type": "code",
   "execution_count": null,
   "metadata": {},
   "outputs": [],
   "source": [
    "def check_nan(datasets):\n",
    "    for data in datasets:\n",
    "        if np.isnan(data).any() == True:\n",
    "            return True\n",
    "    return False"
   ]
  },
  {
   "cell_type": "code",
   "execution_count": 2,
   "metadata": {},
   "outputs": [],
   "source": [
    "# check_nan([X_train, X_test, Y_train, Y_test])"
   ]
  },
  {
   "cell_type": "markdown",
   "metadata": {},
   "source": [
    "## Prediction"
   ]
  },
  {
   "cell_type": "code",
   "execution_count": 28,
   "metadata": {},
   "outputs": [],
   "source": [
    "def preprocess_real_data(file):\n",
    "    def mp4_to_wav(file):\n",
    "        # Load the MP4 file\n",
    "        video = VideoFileClip(file)\n",
    "        # Extract the audio from the video\n",
    "        audio = video.audio\n",
    "        # Export the audio as a WAV file\n",
    "        file = file[:-4]+'.wav'\n",
    "        audio.write_audiofile(file)\n",
    "        return file\n",
    "    def remove_noise(file):\n",
    "        # Detect non-silent parts of the audio\n",
    "        sound_file = AudioSegment.from_wav(file)\n",
    "        non_sil_times = detect_nonsilent(sound_file, min_silence_len=40, silence_thresh=sound_file.dBFS * 1)\n",
    "\n",
    "        # Concatenate the non-silent parts of the audio\n",
    "        if len(non_sil_times) > 0:\n",
    "            non_sil_times_concat = [non_sil_times[0]]\n",
    "            if len(non_sil_times) > 1:\n",
    "                for t in non_sil_times[1:]:\n",
    "                    if t[0] - non_sil_times_concat[-1][1] < 100:\n",
    "                        non_sil_times_concat[-1] = (non_sil_times_concat[-1][0], t[1])\n",
    "                    else:\n",
    "                        non_sil_times_concat.append(t)\n",
    "            new_audio = sound_file[non_sil_times_concat[0][0]:non_sil_times_concat[0][1]]\n",
    "            for t in non_sil_times_concat[1:]:\n",
    "                new_audio += sound_file[t[0]:t[1]]\n",
    "        else:\n",
    "            new_audio = sound_file\n",
    "\n",
    "        # Export the new audio file\n",
    "        new_audio.export(file[:-4]+'_denoised.wav', format=\"wav\")\n",
    "    if file[-4:] == '.mp4':\n",
    "        file = mp4_to_wav(file)\n",
    "    remove_noise(file)\n",
    "    "
   ]
  },
  {
   "cell_type": "code",
   "execution_count": null,
   "metadata": {},
   "outputs": [],
   "source": [
    "import torch\n",
    "from torchvision import transforms\n",
    "\n",
    "# Load the saved model\n",
    "model = torch.load('model.pt')\n",
    "model.eval()  # Set the model to evaluation mode\n",
    "\n",
    "# Define a sample input (you will need to replace this with your actual data)\n",
    "sample_input = torch.randn(1, 3, 224, 224)  # Example input with the shape (batch_size, channels, height, width)\n",
    "\n",
    "# Preprocess the input data\n",
    "preprocess = transforms.Compose([\n",
    "    transforms.Resize(256),\n",
    "    transforms.CenterCrop(224),\n",
    "    transforms.ToTensor(),\n",
    "    transforms.Normalize(mean=[0.485, 0.456, 0.406], std=[0.229, 0.224, 0.225])  # Example normalization values, adjust as needed\n",
    "])\n",
    "input_data = preprocess(sample_input).unsqueeze(0)  # Preprocess the sample input\n",
    "\n",
    "# Perform the prediction\n",
    "with torch.no_grad():\n",
    "    output = model(input_data)  # Call the model on the preprocessed input data\n",
    "\n",
    "# Process the output as needed\n",
    "print(output)"
   ]
  },
  {
   "cell_type": "code",
   "execution_count": 29,
   "metadata": {},
   "outputs": [
    {
     "name": "stdout",
     "output_type": "stream",
     "text": [
      "MoviePy - Writing audio in file.wav\n"
     ]
    },
    {
     "name": "stderr",
     "output_type": "stream",
     "text": [
      "                                                                    "
     ]
    },
    {
     "name": "stdout",
     "output_type": "stream",
     "text": [
      "MoviePy - Done.\n"
     ]
    },
    {
     "name": "stderr",
     "output_type": "stream",
     "text": [
      "\r"
     ]
    }
   ],
   "source": [
    "preprocess_real_data('file.mp4')"
   ]
  },
  {
   "cell_type": "code",
   "execution_count": 34,
   "metadata": {},
   "outputs": [],
   "source": [
    "waveform, sample_rate = torchaudio.load('file_denoised.wav')\n",
    "transform = torchaudio.transforms.MFCC(sample_rate=sample_rate)\n",
    "mfcc = transform(waveform)\n",
    "torch.save(mfcc,'file_denoised.pt')"
   ]
  },
  {
   "cell_type": "code",
   "execution_count": 33,
   "metadata": {},
   "outputs": [],
   "source": [
    "# mfcc = torch.load('file_denoised.pt')\n",
    "\n",
    "# # Convert the audio data to a NumPy array\n",
    "# audio_array = mfcc.numpy()\n",
    "\n",
    "# # Create an AudioSegment from the NumPy array\n",
    "# audio_segment = AudioSegment(audio_array.tobytes(), frame_rate=sample_rate, sample_width=2, channels=2)\n",
    "\n",
    "# # Export the audio segment as a .wav file\n",
    "# audio_segment.export('file_denoised2.wav', format='wav')\n"
   ]
  },
  {
   "cell_type": "code",
   "execution_count": null,
   "metadata": {},
   "outputs": [],
   "source": []
  }
 ],
 "metadata": {
  "kernelspec": {
   "display_name": "venv",
   "language": "python",
   "name": "python3"
  },
  "language_info": {
   "codemirror_mode": {
    "name": "ipython",
    "version": 3
   },
   "file_extension": ".py",
   "mimetype": "text/x-python",
   "name": "python",
   "nbconvert_exporter": "python",
   "pygments_lexer": "ipython3",
   "version": "3.11.0"
  }
 },
 "nbformat": 4,
 "nbformat_minor": 2
}
