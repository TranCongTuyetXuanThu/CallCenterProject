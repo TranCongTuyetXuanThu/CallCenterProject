{
 "cells": [
  {
   "cell_type": "markdown",
   "metadata": {},
   "source": [
    "# to-do list\n",
    "1) extract feature\n",
    "2) label ([exc, hap, sur] 21%,[neu, fru] 42%,[fea, ang, sad, dis] 38%) -> 1 file.csv\n",
    "3) process dims (double), bias (remove)\n",
    "- add noise\n",
    "- process real data"
   ]
  },
  {
   "cell_type": "code",
   "execution_count": 3,
   "metadata": {},
   "outputs": [],
   "source": [
    "# !pip install torchaudio\n",
    "# !pip install torch\n",
    "# !pip install soundfile\n",
    "#!pip install PySoundFile\n",
    "# print(torchaudio.__version__)\n",
    "# print(torch.__version__)\n",
    "#!pip install numpy"
   ]
  },
  {
   "cell_type": "code",
   "execution_count": 4,
   "metadata": {},
   "outputs": [
    {
     "name": "stderr",
     "output_type": "stream",
     "text": [
      "C:\\Users\\hoang\\AppData\\Local\\Temp\\ipykernel_15020\\1933974577.py:5: DeprecationWarning: 'sndhdr' is deprecated and slated for removal in Python 3.13\n",
      "  import sndhdr\n"
     ]
    }
   ],
   "source": [
    "import os\n",
    "import torchaudio\n",
    "from io import StringIO\n",
    "import torch\n",
    "import sndhdr\n",
    "import soundfile\n",
    "#import PySoundFile\n",
    "import numpy"
   ]
  },
  {
   "cell_type": "code",
   "execution_count": 7,
   "metadata": {},
   "outputs": [],
   "source": [
    "#Đọc link file\n",
    "def read_link_wav(type = ('sentences', 'dialog'), sessions = [1,2,3,4,5]):\n",
    "    link = os.path.join('IEMOCAP_full_release', 'Session'+str(sessions), type, 'wav')\n",
    "    links = {}\n",
    "    if type == 'dialog':\n",
    "        return\n",
    "    for dialog in os.listdir(link):\n",
    "        list_sentence = []\n",
    "        for sentence in os.listdir(os.path.join(link,dialog)):\n",
    "            sentence_link = os.path.join(link, dialog, sentence)\n",
    "            list_sentence.append(sentence_link)\n",
    "        links[dialog] = list_sentence\n",
    "    return links"
   ]
  },
  {
   "cell_type": "code",
   "execution_count": 8,
   "metadata": {},
   "outputs": [],
   "source": [
    "def read_and_save_mfcc(types = ('dialog','sentences')):\n",
    "    for session in range(1,6):\n",
    "        links = read_link_wav(types, session)\n",
    "        root = os.path.join('IEMOCAP_full_release','Session'+str(session),types)\n",
    "        if os.path.exists(os.path.join(root,'mfcc')):\n",
    "            continue\n",
    "        os.makedirs(os.path.join(root,'mfcc'))\n",
    "        for dia in links.keys():\n",
    "            if os.path.exists(os.path.join(root,'mfcc',dia)):\n",
    "                continue\n",
    "            os.makedirs(os.path.join(root,'mfcc',dia))\n",
    "            for sen in links[dia]:\n",
    "                try:\n",
    "                    if sndhdr.what(sen).filetype == 'wav':\n",
    "                        waveform, sample_rate = torchaudio.load(sen)\n",
    "                        transform = torchaudio.transforms.MelSpectrogram(sample_rate=sample_rate)\n",
    "                        mel_specgram = transform(waveform)\n",
    "                        output_file = os.path.join(root,'mfcc',dia,os.path.basename(sen)[:-4]+'.pt')\n",
    "                        torch.save(mel_specgram,output_file)\n",
    "                except:\n",
    "                    pass"
   ]
  },
  {
   "cell_type": "code",
   "execution_count": 10,
   "metadata": {},
   "outputs": [],
   "source": [
    "# # extract feature .wav to .pt\n",
    "# read_and_save_mfcc('sentences')"
   ]
  },
  {
   "cell_type": "code",
   "execution_count": null,
   "metadata": {},
   "outputs": [],
   "source": []
  }
 ],
 "metadata": {
  "kernelspec": {
   "display_name": "corrNet",
   "language": "python",
   "name": "python3"
  },
  "language_info": {
   "codemirror_mode": {
    "name": "ipython",
    "version": 3
   },
   "file_extension": ".py",
   "mimetype": "text/x-python",
   "name": "python",
   "nbconvert_exporter": "python",
   "pygments_lexer": "ipython3",
   "version": "3.11.0"
  },
  "orig_nbformat": 4
 },
 "nbformat": 4,
 "nbformat_minor": 2
}
