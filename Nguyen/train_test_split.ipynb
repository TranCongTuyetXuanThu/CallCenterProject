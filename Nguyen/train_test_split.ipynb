{
 "cells": [
  {
   "cell_type": "code",
   "execution_count": 1,
   "metadata": {},
   "outputs": [],
   "source": [
    "from sklearn.model_selection import train_test_split\n",
    "import torch\n",
    "import pandas as pd"
   ]
  },
  {
   "cell_type": "code",
   "execution_count": 2,
   "metadata": {},
   "outputs": [],
   "source": [
    "#split dataframe train test\n",
    "def split_train_test_stratified(test_size):\n",
    "    df = pd.read_csv('processed_shape_data.csv')\n",
    "    df['num_label'] = df.positive*0 + df.neutral*1 + df.negative*2\n",
    "    X = df[['sessionID','path','labels','positive','neutral','negative']]\n",
    "    Y = df[\"num_label\"]\n",
    "    x_train, x_test, y_train, y_test = train_test_split(X, Y, test_size=test_size, stratify=Y,random_state=0)\n",
    "    return x_train, x_test, y_train, y_test"
   ]
  },
  {
   "cell_type": "code",
   "execution_count": 3,
   "metadata": {},
   "outputs": [],
   "source": [
    "#create label files.pt to be output\n",
    "def create_train_test_label_file(x_train, x_test):\n",
    "    label_train = x_train[['positive','neutral','negative']]\n",
    "    tensor_label_train = torch.tensor(label_train.values)\n",
    "    torch.save(tensor_label_train,'label_train.pt')\n",
    "    label_test = x_test[['positive','neutral','negative']]\n",
    "    tensor_label_test = torch.tensor(label_test.values)\n",
    "    torch.save(tensor_label_test,'label_test.pt')"
   ]
  },
  {
   "cell_type": "code",
   "execution_count": 22,
   "metadata": {},
   "outputs": [],
   "source": [
    "#create data files.pt to be input\n",
    "def create_train_test_data_file(x_train, x_test):\n",
    "    tmp_file = torch.empty((len(x_train),128,1500))\n",
    "    count = 0\n",
    "    for file in x_train['path']:\n",
    "        tmp_file[count] = torch.load(file)\n",
    "        count+=1\n",
    "    torch.save(tmp_file,'data_train.pt')\n",
    "    tmp_file = torch.empty((len(x_test),128,1500))\n",
    "    count = 0\n",
    "    for file in x_test['path']:\n",
    "        tmp_file[count] = torch.load(file)\n",
    "        count+=1\n",
    "    torch.save(tmp_file,'data_test.pt')"
   ]
  },
  {
   "cell_type": "code",
   "execution_count": 27,
   "metadata": {},
   "outputs": [],
   "source": [
    "def main(test_size):\n",
    "    x_train, x_test, y_train, y_test = split_train_test_stratified(test_size)\n",
    "    create_train_test_label_file(x_train,x_test)\n",
    "    create_train_test_data_file(x_train,x_test)"
   ]
  },
  {
   "cell_type": "code",
   "execution_count": 28,
   "metadata": {},
   "outputs": [],
   "source": [
    "main(test_size = 0.2)"
   ]
  },
  {
   "cell_type": "code",
   "execution_count": 33,
   "metadata": {},
   "outputs": [],
   "source": [
    "def print_shape():\n",
    "    list_ = ['data_train','data_test','label_train','label_test']\n",
    "    for name in list_:\n",
    "        name_file = name+'.pt'\n",
    "        tensor = torch.load(name_file)\n",
    "        print(name,' has shape: ',tensor.shape)"
   ]
  },
  {
   "cell_type": "code",
   "execution_count": 34,
   "metadata": {},
   "outputs": [
    {
     "name": "stdout",
     "output_type": "stream",
     "text": [
      "data_train  has shape:  torch.Size([6023, 128, 1500])\n",
      "data_test  has shape:  torch.Size([1506, 128, 1500])\n",
      "label_train  has shape:  torch.Size([6023, 3])\n",
      "label_test  has shape:  torch.Size([1506, 3])\n"
     ]
    }
   ],
   "source": [
    "print_shape()"
   ]
  },
  {
   "cell_type": "code",
   "execution_count": null,
   "metadata": {},
   "outputs": [],
   "source": []
  }
 ],
 "metadata": {
  "kernelspec": {
   "display_name": "venv",
   "language": "python",
   "name": "python3"
  },
  "language_info": {
   "codemirror_mode": {
    "name": "ipython",
    "version": 3
   },
   "file_extension": ".py",
   "mimetype": "text/x-python",
   "name": "python",
   "nbconvert_exporter": "python",
   "pygments_lexer": "ipython3",
   "version": "3.11.5"
  }
 },
 "nbformat": 4,
 "nbformat_minor": 2
}
