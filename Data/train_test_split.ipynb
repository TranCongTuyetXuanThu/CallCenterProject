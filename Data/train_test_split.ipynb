{
 "cells": [
  {
   "cell_type": "code",
   "execution_count": 7,
   "metadata": {},
   "outputs": [
    {
     "name": "stdout",
     "output_type": "stream",
     "text": [
      "importing Jupyter notebook from data.ipynb\n"
     ]
    }
   ],
   "source": [
    "from sklearn.model_selection import train_test_split\n",
    "import torch\n",
    "import pandas as pd\n",
    "import os, import_ipynb\n",
    "from data import *"
   ]
  },
  {
   "cell_type": "code",
   "execution_count": 2,
   "metadata": {},
   "outputs": [],
   "source": [
    "#split dataframe train test\n",
    "def split_train_test_stratified(test_size, valid_size):\n",
    "    df = pd.read_csv('processed_shape_data.csv')\n",
    "    df['num_label'] = df.positive*0 + df.neutral*1 + df.negative*2\n",
    "    X = df[['sessionID','path','labels','positive','neutral','negative']]\n",
    "    # df['num_label'] = df.anger*0 + df.frustration*1 + df.sad*2 + df.neutral*3 + df.happy*4 + df.excited*5\n",
    "    # X = df[['sessionID','path','labels','anger','frustration','sad','neutral','happy','excited']]\n",
    "    Y = df[\"num_label\"]\n",
    "    x_train, x_test, y_train, y_test = train_test_split(X, Y, test_size=test_size, stratify=Y,random_state=0)\n",
    "\n",
    "    # Step 1: Split into train and temp (temp includes both validation and test sets)\n",
    "    x_train, x_temp, y_train, y_temp = train_test_split(X, Y, test_size=(test_size + valid_size), stratify=Y, random_state=0)\n",
    "\n",
    "    # Step 2: Split the temp set into validation and test sets\n",
    "    x_valid, x_test, y_valid, y_test = train_test_split(x_temp, y_temp, test_size=(test_size/(valid_size + test_size)), stratify=y_temp, random_state=0)\n",
    "\n",
    "    return x_train, x_valid, x_test, y_train, y_valid, y_test"
   ]
  },
  {
   "cell_type": "code",
   "execution_count": 3,
   "metadata": {},
   "outputs": [],
   "source": [
    "#create label files.pt to be output\n",
    "def create_train_test_label_file(x_train, x_valid, x_test, source):\n",
    "    label_train = x_train[['positive','neutral','negative']]\n",
    "    # label_train = x_train[['anger','frustration','sad','neutral','happy','excited']]\n",
    "    tensor_label_train = torch.tensor(label_train.values)\n",
    "    torch.save(tensor_label_train,os.path.join(source,'label_train_relabelfru_removesad.pt'))\n",
    "\n",
    "    label_valid = x_valid[['positive','neutral','negative']]\n",
    "    # label_test = x_test[['anger','frustration','sad','neutral','happy','excited']]\n",
    "    tensor_label_valid = torch.tensor(label_valid.values)\n",
    "    torch.save(tensor_label_valid,os.path.join(source,'label_valid_relabelfru_removesad.pt'))\n",
    "\n",
    "    label_test = x_test[['positive','neutral','negative']]\n",
    "    # label_test = x_test[['anger','frustration','sad','neutral','happy','excited']]\n",
    "    tensor_label_test = torch.tensor(label_test.values)\n",
    "    torch.save(tensor_label_test,os.path.join(source,'label_test_relabelfru_removesad.pt'))"
   ]
  },
  {
   "cell_type": "code",
   "execution_count": 4,
   "metadata": {},
   "outputs": [],
   "source": [
    "#create data files.pt to be input\n",
    "def create_train_test_data_file(x_train, x_valid, x_test, source):\n",
    "    time_shape = torch.load(x_train.reset_index().path[0]).shape[-1]\n",
    "    tmp_file = torch.empty((len(x_train),2,40,time_shape))\n",
    "    count = 0\n",
    "    for file in x_train['path']:\n",
    "        tmp_file[count] = torch.load(file)\n",
    "        count+=1\n",
    "    torch.save(tmp_file,os.path.join(source,'data_train_relabelfru_removesad.pt'))\n",
    "\n",
    "    tmp_file = torch.empty((len(x_valid),2,40,time_shape))\n",
    "    count = 0\n",
    "    for file in x_valid['path']:\n",
    "        tmp_file[count] = torch.load(file)\n",
    "        count+=1\n",
    "    torch.save(tmp_file,os.path.join(source,'data_valid_relabelfru_removesad.pt'))\n",
    "\n",
    "    tmp_file = torch.empty((len(x_test),2,40,time_shape))\n",
    "    count = 0\n",
    "    for file in x_test['path']:\n",
    "        tmp_file[count] = torch.load(file)\n",
    "        count+=1\n",
    "    torch.save(tmp_file,os.path.join(source,'data_test_relabelfru_removesad.pt'))"
   ]
  },
  {
   "cell_type": "code",
   "execution_count": 5,
   "metadata": {},
   "outputs": [],
   "source": [
    "def main_(test_size, valid_size, source):\n",
    "    x_train, x_valid, x_test, y_train, y_valid, y_test = split_train_test_stratified(test_size, valid_size)\n",
    "    create_train_test_label_file(x_train, x_valid, x_test, source)\n",
    "    create_train_test_data_file(x_train, x_valid, x_test,source)\n",
    "    return "
   ]
  },
  {
   "cell_type": "code",
   "execution_count": 10,
   "metadata": {},
   "outputs": [],
   "source": [
    "root = os.path.join(link_to_data(), 'model','train_data')\n",
    "main_(valid_size = 0.2, test_size = 0.1, source = root)"
   ]
  },
  {
   "cell_type": "code",
   "execution_count": 11,
   "metadata": {},
   "outputs": [],
   "source": [
    "def print_shape(source):\n",
    "    list_ = ['data_train_relabelfru_removesad','data_valid_relabelfru_removesad','data_test_relabelfru_removesad','label_train_relabelfru_removesad','label_valid_relabelfru_removesad','label_test_relabelfru_removesad']\n",
    "    for name in list_:\n",
    "        name_file = os.path.join(source,name+'.pt')\n",
    "        tensor = torch.load(name_file)\n",
    "        print(name,' has shape: ',tensor.shape)"
   ]
  },
  {
   "cell_type": "code",
   "execution_count": 12,
   "metadata": {},
   "outputs": [
    {
     "name": "stdout",
     "output_type": "stream",
     "text": [
      "data_train_relabelfru_removesad  has shape:  torch.Size([10576, 2, 40, 900])\n",
      "data_valid_relabelfru_removesad  has shape:  torch.Size([3022, 2, 40, 900])\n",
      "data_test_relabelfru_removesad  has shape:  torch.Size([1512, 2, 40, 900])\n",
      "label_train_relabelfru_removesad  has shape:  torch.Size([10576, 3])\n",
      "label_valid_relabelfru_removesad  has shape:  torch.Size([3022, 3])\n",
      "label_test_relabelfru_removesad  has shape:  torch.Size([1512, 3])\n"
     ]
    }
   ],
   "source": [
    "print_shape(root)"
   ]
  },
  {
   "cell_type": "code",
   "execution_count": null,
   "metadata": {},
   "outputs": [],
   "source": []
  }
 ],
 "metadata": {
  "kernelspec": {
   "display_name": "venv",
   "language": "python",
   "name": "python3"
  },
  "language_info": {
   "codemirror_mode": {
    "name": "ipython",
    "version": 3
   },
   "file_extension": ".py",
   "mimetype": "text/x-python",
   "name": "python",
   "nbconvert_exporter": "python",
   "pygments_lexer": "ipython3",
   "version": "3.11.0"
  }
 },
 "nbformat": 4,
 "nbformat_minor": 2
}
